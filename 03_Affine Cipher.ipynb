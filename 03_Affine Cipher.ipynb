{
 "cells": [
  {
   "cell_type": "markdown",
   "metadata": {},
   "source": [
    "# Experiment 3 "
   ]
  },
  {
   "cell_type": "markdown",
   "metadata": {},
   "source": [
    "# Name: Mihir Momaya"
   ]
  },
  {
   "cell_type": "markdown",
   "metadata": {},
   "source": [
    "# Roll no. : C033"
   ]
  },
  {
   "cell_type": "code",
   "execution_count": 16,
   "metadata": {},
   "outputs": [],
   "source": [
    "import string"
   ]
  },
  {
   "cell_type": "code",
   "execution_count": 17,
   "metadata": {},
   "outputs": [
    {
     "name": "stdout",
     "output_type": "stream",
     "text": [
      "mihirmomayadensexperimentthree\n"
     ]
    },
    {
     "data": {
      "text/plain": [
       "['m',\n",
       " 'i',\n",
       " 'h',\n",
       " 'i',\n",
       " 'r',\n",
       " 'm',\n",
       " 'o',\n",
       " 'm',\n",
       " 'a',\n",
       " 'y',\n",
       " 'a',\n",
       " 'd',\n",
       " 'e',\n",
       " 'n',\n",
       " 's',\n",
       " 'e',\n",
       " 'x',\n",
       " 'p',\n",
       " 'e',\n",
       " 'r',\n",
       " 'i',\n",
       " 'm',\n",
       " 'e',\n",
       " 'n',\n",
       " 't',\n",
       " 't',\n",
       " 'h',\n",
       " 'r',\n",
       " 'e',\n",
       " 'e']"
      ]
     },
     "execution_count": 17,
     "metadata": {},
     "output_type": "execute_result"
    }
   ],
   "source": [
    "k = input()\n",
    "m = list(k) \n",
    "m"
   ]
  },
  {
   "cell_type": "code",
   "execution_count": 18,
   "metadata": {},
   "outputs": [
    {
     "data": {
      "text/plain": [
       "26"
      ]
     },
     "execution_count": 18,
     "metadata": {},
     "output_type": "execute_result"
    }
   ],
   "source": [
    "all_letters= string.ascii_lowercase\n",
    "n=len(all_letters)\n",
    "n"
   ]
  },
  {
   "cell_type": "code",
   "execution_count": 19,
   "metadata": {},
   "outputs": [
    {
     "data": {
      "text/plain": [
       "'abcdefghijklmnopqrstuvwxyz'"
      ]
     },
     "execution_count": 19,
     "metadata": {},
     "output_type": "execute_result"
    }
   ],
   "source": [
    "all_letters"
   ]
  },
  {
   "cell_type": "code",
   "execution_count": 20,
   "metadata": {},
   "outputs": [
    {
     "data": {
      "text/plain": [
       "['a',\n",
       " 'b',\n",
       " 'c',\n",
       " 'd',\n",
       " 'e',\n",
       " 'f',\n",
       " 'g',\n",
       " 'h',\n",
       " 'i',\n",
       " 'j',\n",
       " 'k',\n",
       " 'l',\n",
       " 'm',\n",
       " 'n',\n",
       " 'o',\n",
       " 'p',\n",
       " 'q',\n",
       " 'r',\n",
       " 's',\n",
       " 't',\n",
       " 'u',\n",
       " 'v',\n",
       " 'w',\n",
       " 'x',\n",
       " 'y',\n",
       " 'z']"
      ]
     },
     "execution_count": 20,
     "metadata": {},
     "output_type": "execute_result"
    }
   ],
   "source": [
    "all_list = list(all_letters)\n",
    "all_list"
   ]
  },
  {
   "cell_type": "code",
   "execution_count": 21,
   "metadata": {},
   "outputs": [
    {
     "name": "stdout",
     "output_type": "stream",
     "text": [
      "Eneter value of 1st key: 7\n",
      "Eneter value of 2nd key: 2\n"
     ]
    }
   ],
   "source": [
    "k1 = int(input(\"Eneter value of 1st key: \"))\n",
    "k2 = int(input(\"Eneter value of 2nd key: \"))"
   ]
  },
  {
   "cell_type": "markdown",
   "metadata": {},
   "source": [
    "### Function to check if Multiplicative Inverse exists or not"
   ]
  },
  {
   "cell_type": "code",
   "execution_count": 22,
   "metadata": {},
   "outputs": [],
   "source": [
    "import math\n",
    "def check_mulinv(a,b):\n",
    "    if math.gcd(a,b) == 1:\n",
    "        x = mul_inv(a,b)\n",
    "        return x\n",
    "    else:\n",
    "        print(\"Multiplicative Inverse does not exist\")"
   ]
  },
  {
   "cell_type": "markdown",
   "metadata": {},
   "source": [
    "# Encryption"
   ]
  },
  {
   "cell_type": "code",
   "execution_count": 23,
   "metadata": {},
   "outputs": [],
   "source": [
    "def enc(k1,k2,p):\n",
    "    x = (k1*p + k2)% 26\n",
    "    return x"
   ]
  },
  {
   "cell_type": "code",
   "execution_count": 24,
   "metadata": {},
   "outputs": [
    {
     "data": {
      "text/plain": [
       "['i',\n",
       " 'g',\n",
       " 'z',\n",
       " 'g',\n",
       " 'r',\n",
       " 'i',\n",
       " 'w',\n",
       " 'i',\n",
       " 'c',\n",
       " 'o',\n",
       " 'c',\n",
       " 'x',\n",
       " 'e',\n",
       " 'p',\n",
       " 'y',\n",
       " 'e',\n",
       " 'h',\n",
       " 'd',\n",
       " 'e',\n",
       " 'r',\n",
       " 'g',\n",
       " 'i',\n",
       " 'e',\n",
       " 'p',\n",
       " 'f',\n",
       " 'f',\n",
       " 'z',\n",
       " 'r',\n",
       " 'e',\n",
       " 'e']"
      ]
     },
     "execution_count": 24,
     "metadata": {},
     "output_type": "execute_result"
    }
   ],
   "source": [
    "ansl = []\n",
    "decl = []\n",
    "xl = []\n",
    "for i in range(0,len(m)):\n",
    "    x = all_list.index(m[i])\n",
    "    xl.append(x)\n",
    "    z = enc(k1,k2,x)\n",
    "    decl.append(z)\n",
    "    ansl.append(all_letters[z])\n",
    "ansl"
   ]
  },
  {
   "cell_type": "markdown",
   "metadata": {},
   "source": [
    "# Decryption"
   ]
  },
  {
   "cell_type": "code",
   "execution_count": 25,
   "metadata": {},
   "outputs": [],
   "source": [
    "def mul_inv(n,a):\n",
    "    for i in range(1,n+1):\n",
    "        if (a*i)%n==1:\n",
    "            return(i)"
   ]
  },
  {
   "cell_type": "code",
   "execution_count": 26,
   "metadata": {},
   "outputs": [
    {
     "data": {
      "text/plain": [
       "15"
      ]
     },
     "execution_count": 26,
     "metadata": {},
     "output_type": "execute_result"
    }
   ],
   "source": [
    "k1inv = mul_inv(n,7)\n",
    "k1inv"
   ]
  },
  {
   "cell_type": "code",
   "execution_count": 27,
   "metadata": {},
   "outputs": [
    {
     "data": {
      "text/plain": [
       "[8,\n",
       " 6,\n",
       " 25,\n",
       " 6,\n",
       " 17,\n",
       " 8,\n",
       " 22,\n",
       " 8,\n",
       " 2,\n",
       " 14,\n",
       " 2,\n",
       " 23,\n",
       " 4,\n",
       " 15,\n",
       " 24,\n",
       " 4,\n",
       " 7,\n",
       " 3,\n",
       " 4,\n",
       " 17,\n",
       " 6,\n",
       " 8,\n",
       " 4,\n",
       " 15,\n",
       " 5,\n",
       " 5,\n",
       " 25,\n",
       " 17,\n",
       " 4,\n",
       " 4]"
      ]
     },
     "execution_count": 27,
     "metadata": {},
     "output_type": "execute_result"
    }
   ],
   "source": [
    "decl"
   ]
  },
  {
   "cell_type": "code",
   "execution_count": 31,
   "metadata": {},
   "outputs": [
    {
     "data": {
      "text/plain": [
       "'mihirmomayadensexperimentthree'"
      ]
     },
     "execution_count": 31,
     "metadata": {},
     "output_type": "execute_result"
    }
   ],
   "source": [
    "deansl = []\n",
    "g = ''\n",
    "for i in range(0,len(decl)):\n",
    "    a = all_letters[((decl[i]-k2)*k1inv)%26]\n",
    "    g = g + a\n",
    "g"
   ]
  },
  {
   "cell_type": "markdown",
   "metadata": {},
   "source": [
    "# Conclusion:"
   ]
  },
  {
   "cell_type": "markdown",
   "metadata": {},
   "source": [
    "In this experiment we have implemented affine cipher where each letter is mapped to its numeric equivalent which is encrypted using two keys i.e. a multiplicative key and using an additive key, where it is necessary to determine whether a multiplicatve inverse exists of the first key which is to be used for decryption process. For encrypting the cipher text we have used the formula ((pXk1)+k2)mod(n) where p is the plaintext and n is the length of characters while for decrypting the encrypted text we use the formula ((c-k2)X inverse of k1) * mod(n). "
   ]
  },
  {
   "cell_type": "code",
   "execution_count": null,
   "metadata": {},
   "outputs": [],
   "source": []
  }
 ],
 "metadata": {
  "kernelspec": {
   "display_name": "Python 3",
   "language": "python",
   "name": "python3"
  },
  "language_info": {
   "codemirror_mode": {
    "name": "ipython",
    "version": 3
   },
   "file_extension": ".py",
   "mimetype": "text/x-python",
   "name": "python",
   "nbconvert_exporter": "python",
   "pygments_lexer": "ipython3",
   "version": "3.7.4"
  }
 },
 "nbformat": 4,
 "nbformat_minor": 2
}
