{
 "cells": [
  {
   "cell_type": "markdown",
   "metadata": {
    "id": "v1Izv1c6RSn-"
   },
   "source": [
    "## Experiment 0 - Familiarization with Python\n",
    "## Name - Mihir Momaya\n",
    "## Roll No. - C033\n",
    "## Branch - B.Tech EXTC"
   ]
  },
  {
   "cell_type": "markdown",
   "metadata": {
    "id": "QTB55Mc4PWHj"
   },
   "source": [
    "1) To write a program to form a new string by exchanging first and last character of the original string"
   ]
  },
  {
   "cell_type": "code",
   "execution_count": 3,
   "metadata": {
    "id": "9kks7y4oO20I"
   },
   "outputs": [
    {
     "name": "stdout",
     "output_type": "stream",
     "text": [
      "qwerty\n"
     ]
    }
   ],
   "source": [
    "string =  input()\n",
    "n = len(string)\n",
    "new_string = string[-1] + string[1:n] + string[0]"
   ]
  },
  {
   "cell_type": "code",
   "execution_count": 4,
   "metadata": {
    "colab": {
     "base_uri": "https://localhost:8080/",
     "height": 35
    },
    "id": "hKeQjhObO25l",
    "outputId": "d51c987d-6ec3-4249-900b-0fc2199ff18d"
   },
   "outputs": [
    {
     "data": {
      "text/plain": [
       "'ywertyq'"
      ]
     },
     "execution_count": 4,
     "metadata": {},
     "output_type": "execute_result"
    }
   ],
   "source": [
    "new_string"
   ]
  },
  {
   "cell_type": "code",
   "execution_count": null,
   "metadata": {
    "id": "YDx760DRO2_T"
   },
   "outputs": [],
   "source": []
  },
  {
   "cell_type": "markdown",
   "metadata": {
    "id": "hR4kYZZvPn1F"
   },
   "source": [
    "2) To write a program to reverse a given number using a while loop"
   ]
  },
  {
   "cell_type": "code",
   "execution_count": 5,
   "metadata": {
    "colab": {
     "base_uri": "https://localhost:8080/"
    },
    "id": "PcdeGRgVO2-2",
    "outputId": "bc8d58a3-ae0e-428f-8b8a-ab4f46fd0c0d"
   },
   "outputs": [
    {
     "name": "stdout",
     "output_type": "stream",
     "text": [
      "123456\n"
     ]
    },
    {
     "data": {
      "text/plain": [
       "654321"
      ]
     },
     "execution_count": 5,
     "metadata": {},
     "output_type": "execute_result"
    }
   ],
   "source": [
    "x = int(input())\n",
    "a = 0\n",
    "while x != 0:\n",
    "    a = (a*10) + (x%10)\n",
    "    x = int(x/10)\n",
    "    \n",
    "a"
   ]
  },
  {
   "cell_type": "code",
   "execution_count": null,
   "metadata": {
    "id": "G4HXM_vIO25J"
   },
   "outputs": [],
   "source": []
  },
  {
   "cell_type": "markdown",
   "metadata": {
    "id": "YNz9q3e6PwHn"
   },
   "source": [
    "3) To write a program to print 2nd maximum and 2nd minimum number in the list using list sort()"
   ]
  },
  {
   "cell_type": "code",
   "execution_count": 6,
   "metadata": {
    "colab": {
     "base_uri": "https://localhost:8080/"
    },
    "id": "sF3tMGwpO2zi",
    "outputId": "5153eb57-783b-4787-a564-a6bc8463b06e"
   },
   "outputs": [
    {
     "name": "stdout",
     "output_type": "stream",
     "text": [
      "Enter number of elements: 6\n",
      "1\n",
      "2\n",
      "5\n",
      "7\n",
      "9\n",
      "4\n",
      "[1, 2, 4, 5, 7, 9]\n",
      "2nd minimum:  2\n",
      "2nd maximum:  7\n"
     ]
    }
   ],
   "source": [
    "n = int(input(\"Enter number of elements: \"))\n",
    "a = []\n",
    "for i in range(0,n):\n",
    "    f = int(input())\n",
    "    a.append(f)\n",
    "a.sort()\n",
    "print(a)\n",
    "print('2nd minimum: ',a[1])\n",
    "print('2nd maximum: ',a[-2])"
   ]
  },
  {
   "cell_type": "code",
   "execution_count": null,
   "metadata": {
    "id": "PJdbLPgfO2tN"
   },
   "outputs": [],
   "source": []
  },
  {
   "cell_type": "markdown",
   "metadata": {
    "id": "NZq3jLUdQLSk"
   },
   "source": [
    "4) To write a program to print the numbers which are not multiple of 5 in the given list using list append()"
   ]
  },
  {
   "cell_type": "code",
   "execution_count": 8,
   "metadata": {
    "colab": {
     "base_uri": "https://localhost:8080/"
    },
    "id": "M5mhnocOQTiY",
    "outputId": "a948804e-116e-4b43-aeee-23e340a779ab"
   },
   "outputs": [
    {
     "name": "stdout",
     "output_type": "stream",
     "text": [
      "Enter number of elements: 5\n",
      "1\n",
      "6\n",
      "15\n",
      "10\n",
      "8\n",
      "List of elements not multiple of 5:  [1, 6, 8]\n"
     ]
    }
   ],
   "source": [
    "m = int(input(\"Enter number of elements: \"))\n",
    "b = []\n",
    "for j in range(0,m):\n",
    "    g = int(input())\n",
    "    b.append(g)\n",
    "og = []\n",
    "for k in range(m):\n",
    "    if (b[k]%5 != 0):\n",
    "        og.append(b[k]) \n",
    "print('List of elements not multiple of 5: ', og)"
   ]
  },
  {
   "cell_type": "markdown",
   "metadata": {
    "id": "ZwEneYN3NlcU"
   },
   "source": [
    "5)Numpy\n",
    "\n",
    "a. Creating 4X4 numpy array\n",
    "\n",
    "b. Extract all the elements of 3rd row from a 4x4 array\n",
    "\n",
    "c. Reshape the original 4X4 array to 2X8 array"
   ]
  },
  {
   "cell_type": "code",
   "execution_count": 17,
   "metadata": {
    "colab": {
     "base_uri": "https://localhost:8080/"
    },
    "id": "VdCSGuLKLiEe",
    "outputId": "fab36691-79ec-4201-9884-d788650bda79"
   },
   "outputs": [
    {
     "data": {
      "text/plain": [
       "array([[ 0,  1,  2,  3],\n",
       "       [ 4,  5,  6,  7],\n",
       "       [ 8,  9, 10, 11],\n",
       "       [12, 13, 14, 15]])"
      ]
     },
     "execution_count": 17,
     "metadata": {},
     "output_type": "execute_result"
    }
   ],
   "source": [
    "import numpy as np\n",
    "a = np.arange(0, 16).reshape(4,4)\n",
    "a"
   ]
  },
  {
   "cell_type": "code",
   "execution_count": 19,
   "metadata": {
    "colab": {
     "base_uri": "https://localhost:8080/"
    },
    "id": "y312AinZMFw3",
    "outputId": "50fa8eff-eaa1-4712-c79c-b6af2594774d"
   },
   "outputs": [
    {
     "name": "stdout",
     "output_type": "stream",
     "text": [
      "[[ 8  9 10 11]]\n"
     ]
    }
   ],
   "source": [
    "print(a[2:3, 0:4])"
   ]
  },
  {
   "cell_type": "code",
   "execution_count": null,
   "metadata": {
    "colab": {
     "base_uri": "https://localhost:8080/"
    },
    "id": "ElRtX2lUMtav",
    "outputId": "9bc5180e-8ceb-445a-a335-a9882284be6d"
   },
   "outputs": [
    {
     "data": {
      "text/plain": [
       "array([[ 0,  1,  2,  3,  4,  5,  6,  7],\n",
       "       [ 8,  9, 10, 11, 12, 13, 14, 15]])"
      ]
     },
     "execution_count": 12,
     "metadata": {
      "tags": []
     },
     "output_type": "execute_result"
    }
   ],
   "source": [
    "B = a.reshape(2, 8)\n",
    "B"
   ]
  },
  {
   "cell_type": "markdown",
   "metadata": {
    "id": "S9J4Q8_0Lolg"
   },
   "source": [
    "6) Write a function called add_int that will take two integers as input and return its sum as output"
   ]
  },
  {
   "cell_type": "code",
   "execution_count": null,
   "metadata": {
    "colab": {
     "base_uri": "https://localhost:8080/"
    },
    "id": "am61APXtLe_g",
    "outputId": "d7694fc6-8275-43e6-9a2f-bf65272e40ae"
   },
   "outputs": [
    {
     "name": "stdout",
     "output_type": "stream",
     "text": [
      "25\n"
     ]
    }
   ],
   "source": [
    "def add_int(a,b):\n",
    "     return a + b\n",
    "print(add_int(10,15))"
   ]
  },
  {
   "cell_type": "code",
   "execution_count": null,
   "metadata": {
    "id": "81o2lFwcQwyz"
   },
   "outputs": [],
   "source": []
  },
  {
   "cell_type": "markdown",
   "metadata": {
    "id": "JX09XxviQ2x_"
   },
   "source": [
    "7) To write a Python program to create a dictionary"
   ]
  },
  {
   "cell_type": "code",
   "execution_count": 10,
   "metadata": {
    "colab": {
     "base_uri": "https://localhost:8080/"
    },
    "id": "7rtY4CGQQ6pH",
    "outputId": "01092f48-9152-4c0e-df4e-04d4eae0b2a4"
   },
   "outputs": [
    {
     "name": "stdout",
     "output_type": "stream",
     "text": [
      "\n",
      "Dictionary with the use of Integer Keys: \n",
      "{1: 'Hello', 2: 'World', 3: 'C++'}\n"
     ]
    }
   ],
   "source": [
    "Dict = {1: 'Hello', 2: 'World', 3: 'C++'} \n",
    "print(\"\\nDictionary with the use of Integer Keys: \") \n",
    "print(Dict)"
   ]
  },
  {
   "cell_type": "code",
   "execution_count": null,
   "metadata": {
    "id": "XU9KqQrEREdP"
   },
   "outputs": [],
   "source": []
  },
  {
   "cell_type": "markdown",
   "metadata": {
    "id": "S7OvCci2RFWP"
   },
   "source": [
    "8) To write a Python program to print keys and values of the dictionary using dict.keys(), dict.items()"
   ]
  },
  {
   "cell_type": "code",
   "execution_count": 9,
   "metadata": {
    "colab": {
     "base_uri": "https://localhost:8080/"
    },
    "id": "58ccE4FkRLgE",
    "outputId": "061d675b-e07f-4f35-e557-9b6df59d6617"
   },
   "outputs": [
    {
     "name": "stdout",
     "output_type": "stream",
     "text": [
      "dict_keys(['A', 'B', 'C'])\n",
      "dict_items([('A', 'Alice'), ('B', 'Bob'), ('C', 'Charlie')])\n"
     ]
    }
   ],
   "source": [
    "Dictionary1 = {'A': 'Alice', 'B': 'Bob', 'C': 'Charlie'} \n",
    "\n",
    "print(Dictionary1.keys()) \n",
    "\n",
    "print(Dictionary1.items())"
   ]
  },
  {
   "cell_type": "code",
   "execution_count": null,
   "metadata": {
    "id": "KDSqVs4uRQVo"
   },
   "outputs": [],
   "source": []
  }
 ],
 "metadata": {
  "colab": {
   "collapsed_sections": [],
   "name": "Untitled12.ipynb",
   "provenance": []
  },
  "kernelspec": {
   "display_name": "Python 3",
   "language": "python",
   "name": "python3"
  },
  "language_info": {
   "codemirror_mode": {
    "name": "ipython",
    "version": 3
   },
   "file_extension": ".py",
   "mimetype": "text/x-python",
   "name": "python",
   "nbconvert_exporter": "python",
   "pygments_lexer": "ipython3",
   "version": "3.7.4"
  }
 },
 "nbformat": 4,
 "nbformat_minor": 1
}
