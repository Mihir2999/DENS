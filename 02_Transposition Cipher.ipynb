{
 "cells": [
  {
   "cell_type": "markdown",
   "metadata": {},
   "source": [
    "# EXPERIMENT 2"
   ]
  },
  {
   "cell_type": "markdown",
   "metadata": {},
   "source": [
    "# Name : MIHIR MOMAYA"
   ]
  },
  {
   "cell_type": "markdown",
   "metadata": {},
   "source": [
    "# Roll no.: C033"
   ]
  },
  {
   "cell_type": "code",
   "execution_count": 18,
   "metadata": {},
   "outputs": [
    {
     "name": "stdout",
     "output_type": "stream",
     "text": [
      "Enter string to be encrypted: Hello World\n"
     ]
    }
   ],
   "source": [
    "a = input(\"Enter string to be encrypted: \")"
   ]
  },
  {
   "cell_type": "markdown",
   "metadata": {},
   "source": [
    "# CONVERTING STRING TO LIST"
   ]
  },
  {
   "cell_type": "code",
   "execution_count": 19,
   "metadata": {},
   "outputs": [
    {
     "name": "stdout",
     "output_type": "stream",
     "text": [
      "['H', 'e', 'l', 'l', 'o', ' ', 'W', 'o', 'r', 'l', 'd']\n"
     ]
    }
   ],
   "source": [
    "def Convert(string): \n",
    "    list1=[] \n",
    "    list1[:0]=string \n",
    "    return list1 \n",
    "# Driver code \n",
    "print(Convert(a))\n",
    "al = Convert(a)"
   ]
  },
  {
   "cell_type": "markdown",
   "metadata": {},
   "source": [
    "# GETTING ASCII VALUES"
   ]
  },
  {
   "cell_type": "code",
   "execution_count": 20,
   "metadata": {},
   "outputs": [],
   "source": [
    "def gettingascii(al):\n",
    "    ol = []\n",
    "    for i in range(0,len(al)):\n",
    "        ol.append(ord(al[i]))\n",
    "    return (ol)"
   ]
  },
  {
   "cell_type": "code",
   "execution_count": 21,
   "metadata": {},
   "outputs": [],
   "source": [
    "ol = gettingascii(al)"
   ]
  },
  {
   "cell_type": "markdown",
   "metadata": {},
   "source": [
    "# Getting List of Possibilities "
   ]
  },
  {
   "cell_type": "code",
   "execution_count": 22,
   "metadata": {},
   "outputs": [],
   "source": [
    "ans = ''\n",
    "anslist = []\n",
    "for j in range(0,26):\n",
    "    for i in range(0,len(ol)):\n",
    "        #print(chr(ol[i]-j))\n",
    "        ans = ans + chr(ol[i]-j)\n",
    "    anslist.append(ans)\n",
    "    ans = ''"
   ]
  },
  {
   "cell_type": "code",
   "execution_count": 23,
   "metadata": {},
   "outputs": [
    {
     "data": {
      "text/plain": [
       "['Hello World',\n",
       " 'Gdkkn\\x1fVnqkc',\n",
       " 'Fcjjm\\x1eUmpjb',\n",
       " 'Ebiil\\x1dTloia',\n",
       " 'Dahhk\\x1cSknh`',\n",
       " 'C`ggj\\x1bRjmg_',\n",
       " 'B_ffi\\x1aQilf^',\n",
       " 'A^eeh\\x19Phke]',\n",
       " '@]ddg\\x18Ogjd\\\\',\n",
       " '?\\\\ccf\\x17Nfic[',\n",
       " '>[bbe\\x16MehbZ',\n",
       " '=Zaad\\x15LdgaY',\n",
       " '<Y``c\\x14Kcf`X',\n",
       " ';X__b\\x13Jbe_W',\n",
       " ':W^^a\\x12Iad^V',\n",
       " '9V]]`\\x11H`c]U',\n",
       " '8U\\\\\\\\_\\x10G_b\\\\T',\n",
       " '7T[[^\\x0fF^a[S',\n",
       " '6SZZ]\\x0eE]`ZR',\n",
       " '5RYY\\\\\\rD\\\\_YQ',\n",
       " '4QXX[\\x0cC[^XP',\n",
       " '3PWWZ\\x0bBZ]WO',\n",
       " '2OVVY\\nAY\\\\VN',\n",
       " '1NUUX\\t@X[UM',\n",
       " '0MTTW\\x08?WZTL',\n",
       " '/LSSV\\x07>VYSK']"
      ]
     },
     "execution_count": 23,
     "metadata": {},
     "output_type": "execute_result"
    }
   ],
   "source": [
    "anslist"
   ]
  },
  {
   "cell_type": "markdown",
   "metadata": {},
   "source": [
    "# TRANSPOSITION CIPHER"
   ]
  },
  {
   "cell_type": "code",
   "execution_count": 27,
   "metadata": {},
   "outputs": [
    {
     "name": "stdout",
     "output_type": "stream",
     "text": [
      "Enter your text: 33 My roll no. is\n"
     ]
    }
   ],
   "source": [
    "c = input(\"Enter your text: \")"
   ]
  },
  {
   "cell_type": "code",
   "execution_count": 30,
   "metadata": {},
   "outputs": [
    {
     "name": "stdout",
     "output_type": "stream",
     "text": [
      "33 My roll no. is\n",
      "3 My roll no. is3\n",
      " My roll no. is33\n",
      "My roll no. is33 \n",
      "y roll no. is33 M\n",
      " roll no. is33 My\n",
      "roll no. is33 My \n",
      "oll no. is33 My r\n",
      "ll no. is33 My ro\n",
      "l no. is33 My rol\n",
      " no. is33 My roll\n",
      "no. is33 My roll \n",
      "o. is33 My roll n\n",
      ". is33 My roll no\n",
      " is33 My roll no.\n",
      "is33 My roll no. \n",
      "s33 My roll no. i\n"
     ]
    }
   ],
   "source": [
    "for i in range(0,len(c)):\n",
    "    d = c[i:]\n",
    "    e = c[:i]\n",
    "    f = d+e\n",
    "    print(f)"
   ]
  },
  {
   "cell_type": "markdown",
   "metadata": {},
   "source": [
    "# CONCLUSION"
   ]
  },
  {
   "cell_type": "markdown",
   "metadata": {},
   "source": [
    "In substitution and caesar cipher we replaced the alphabet in the words by the alphabet whose ASCII value was greater than it by amount of 'key', which is given by the user. The conditions on the key were such that if it was greater than 26, then the value of (key mod 26) was assumed as the new key. Whereas, in transposition and reverse cipher the alpahbets were subject to cyclic shift within the given sentence. While decrypting, we use brute-force attack i.e. we use all the possible key values to obtain the original plaintext."
   ]
  },
  {
   "cell_type": "code",
   "execution_count": null,
   "metadata": {},
   "outputs": [],
   "source": []
  }
 ],
 "metadata": {
  "kernelspec": {
   "display_name": "Python 3 (ipykernel)",
   "language": "python",
   "name": "python3"
  },
  "language_info": {
   "codemirror_mode": {
    "name": "ipython",
    "version": 3
   },
   "file_extension": ".py",
   "mimetype": "text/x-python",
   "name": "python",
   "nbconvert_exporter": "python",
   "pygments_lexer": "ipython3",
   "version": "3.9.12"
  }
 },
 "nbformat": 4,
 "nbformat_minor": 2
}
