{
 "cells": [
  {
   "cell_type": "markdown",
   "metadata": {},
   "source": [
    "# Experiment 5"
   ]
  },
  {
   "cell_type": "markdown",
   "metadata": {},
   "source": [
    "# Name: Mihir Momaya"
   ]
  },
  {
   "cell_type": "markdown",
   "metadata": {},
   "source": [
    "# Roll no.: C033"
   ]
  },
  {
   "cell_type": "code",
   "execution_count": 17,
   "metadata": {},
   "outputs": [],
   "source": [
    "import numpy as np\n",
    "import random"
   ]
  },
  {
   "cell_type": "code",
   "execution_count": 18,
   "metadata": {},
   "outputs": [
    {
     "name": "stdout",
     "output_type": "stream",
     "text": [
      "[ 1  2  3  4  5  6  7  8  9 10 11 12 13 14 15 16 17 18 19 20 21 22 23 24\n",
      " 25 26 27 28 29 30 31 32 33 34 35 36 37 38 39 40 41 42 43 44 45 46 47 48\n",
      " 49 50 51 52 53 54 55 56 57 58 59 60 61 62 63 64]\n"
     ]
    }
   ],
   "source": [
    "#Generate Key of size 64 elements. Here, insead of bits, integers are taken to understand the permutaion and shifting operations taking place.\n",
    "key= np.arange(1,65,1)\n",
    "print(key)"
   ]
  },
  {
   "cell_type": "code",
   "execution_count": 19,
   "metadata": {},
   "outputs": [],
   "source": [
    "# Initialize permutaion choice 1 matrix\n",
    "Perm1= [57,49,41,33, 25,17,9,1,58,50,42,34,26,18,10,2,59,51,43,35,27, \n",
    "        19,11,3,60,52,44,36,63,55,47,39,31,23,15,7,62,54,46,38,30,22,14,6,61,53,45,37,29,21,13,25,28,20,12,4]"
   ]
  },
  {
   "cell_type": "code",
   "execution_count": 20,
   "metadata": {},
   "outputs": [
    {
     "name": "stdout",
     "output_type": "stream",
     "text": [
      "[58, 50, 42, 34, 26, 18, 10, 2, 59, 51, 43, 35, 27, 19, 11, 3, 60, 52, 44, 36, 28, 20, 12, 4, 61, 53, 45, 37, 64, 56, 48, 40, 32, 24, 16, 8, 63, 55, 47, 39, 31, 23, 15, 7, 62, 54, 46, 38, 30, 22, 14, 26, 29, 21, 13, 5]\n"
     ]
    }
   ],
   "source": [
    "# Performs permutaion and parity drop operations\n",
    "key1=[]\n",
    "for i in range(0,56):\n",
    "    x= (Perm1[i])\n",
    "    x=int(x)\n",
    "    temp= key[x]\n",
    "    key1.append(temp)\n",
    "print(key1)"
   ]
  },
  {
   "cell_type": "code",
   "execution_count": 24,
   "metadata": {},
   "outputs": [
    {
     "name": "stdout",
     "output_type": "stream",
     "text": [
      "[[48 40 32 24 16  8 63 55 47 39 31 23 15  7 62 54 46 38 30 22 14 26 29 21\n",
      "  13  5 58 50 42 34 26 18 10  2 59 51 43 35 27 19 11  3 60 52 44 36 28 20\n",
      "  12  4 61 53 45 37 64 56]\n",
      " [40 32 24 16  8 63 55 47 39 31 23 15  7 62 54 46 38 30 22 14 26 29 21 13\n",
      "   5 58 50 42 34 26 18 10  2 59 51 43 35 27 19 11  3 60 52 44 36 28 20 12\n",
      "   4 61 53 45 37 64 56 48]\n",
      " [24 16  8 63 55 47 39 31 23 15  7 62 54 46 38 30 22 14 26 29 21 13  5 58\n",
      "  50 42 34 26 18 10  2 59 51 43 35 27 19 11  3 60 52 44 36 28 20 12  4 61\n",
      "  53 45 37 64 56 48 40 32]\n",
      " [ 8 63 55 47 39 31 23 15  7 62 54 46 38 30 22 14 26 29 21 13  5 58 50 42\n",
      "  34 26 18 10  2 59 51 43 35 27 19 11  3 60 52 44 36 28 20 12  4 61 53 45\n",
      "  37 64 56 48 40 32 24 16]\n",
      " [55 47 39 31 23 15  7 62 54 46 38 30 22 14 26 29 21 13  5 58 50 42 34 26\n",
      "  18 10  2 59 51 43 35 27 19 11  3 60 52 44 36 28 20 12  4 61 53 45 37 64\n",
      "  56 48 40 32 24 16  8 63]\n",
      " [39 31 23 15  7 62 54 46 38 30 22 14 26 29 21 13  5 58 50 42 34 26 18 10\n",
      "   2 59 51 43 35 27 19 11  3 60 52 44 36 28 20 12  4 61 53 45 37 64 56 48\n",
      "  40 32 24 16  8 63 55 47]\n",
      " [23 15  7 62 54 46 38 30 22 14 26 29 21 13  5 58 50 42 34 26 18 10  2 59\n",
      "  51 43 35 27 19 11  3 60 52 44 36 28 20 12  4 61 53 45 37 64 56 48 40 32\n",
      "  24 16  8 63 55 47 39 31]\n",
      " [ 7 62 54 46 38 30 22 14 26 29 21 13  5 58 50 42 34 26 18 10  2 59 51 43\n",
      "  35 27 19 11  3 60 52 44 36 28 20 12  4 61 53 45 37 64 56 48 40 32 24 16\n",
      "   8 63 55 47 39 31 23 15]\n",
      " [62 54 46 38 30 22 14 26 29 21 13  5 58 50 42 34 26 18 10  2 59 51 43 35\n",
      "  27 19 11  3 60 52 44 36 28 20 12  4 61 53 45 37 64 56 48 40 32 24 16  8\n",
      "  63 55 47 39 31 23 15  7]\n",
      " [46 38 30 22 14 26 29 21 13  5 58 50 42 34 26 18 10  2 59 51 43 35 27 19\n",
      "  11  3 60 52 44 36 28 20 12  4 61 53 45 37 64 56 48 40 32 24 16  8 63 55\n",
      "  47 39 31 23 15  7 62 54]\n",
      " [30 22 14 26 29 21 13  5 58 50 42 34 26 18 10  2 59 51 43 35 27 19 11  3\n",
      "  60 52 44 36 28 20 12  4 61 53 45 37 64 56 48 40 32 24 16  8 63 55 47 39\n",
      "  31 23 15  7 62 54 46 38]\n",
      " [14 26 29 21 13  5 58 50 42 34 26 18 10  2 59 51 43 35 27 19 11  3 60 52\n",
      "  44 36 28 20 12  4 61 53 45 37 64 56 48 40 32 24 16  8 63 55 47 39 31 23\n",
      "  15  7 62 54 46 38 30 22]\n",
      " [29 21 13  5 58 50 42 34 26 18 10  2 59 51 43 35 27 19 11  3 60 52 44 36\n",
      "  28 20 12  4 61 53 45 37 64 56 48 40 32 24 16  8 63 55 47 39 31 23 15  7\n",
      "  62 54 46 38 30 22 14 26]\n",
      " [13  5 58 50 42 34 26 18 10  2 59 51 43 35 27 19 11  3 60 52 44 36 28 20\n",
      "  12  4 61 53 45 37 64 56 48 40 32 24 16  8 63 55 47 39 31 23 15  7 62 54\n",
      "  46 38 30 22 14 26 29 21]\n",
      " [58 50 42 34 26 18 10  2 59 51 43 35 27 19 11  3 60 52 44 36 28 20 12  4\n",
      "  61 53 45 37 64 56 48 40 32 24 16  8 63 55 47 39 31 23 15  7 62 54 46 38\n",
      "  30 22 14 26 29 21 13  5]\n",
      " [50 42 34 26 18 10  2 59 51 43 35 27 19 11  3 60 52 44 36 28 20 12  4 61\n",
      "  53 45 37 64 56 48 40 32 24 16  8 63 55 47 39 31 23 15  7 62 54 46 38 30\n",
      "  22 14 26 29 21 13  5 58]]\n"
     ]
    }
   ],
   "source": [
    "#Performs left rotation of eachn round key according to its round number\n",
    "keyrot= np.zeros([16,56],dtype=int)\n",
    "for i in range(0,16):\n",
    "    if i==0 or i==1 or i==8 or i==15:\n",
    "        temp= np.roll(key1,-1)\n",
    "        keyrot[i,:]= temp\n",
    "        key1=temp\n",
    "    else:\n",
    "        temp=np.roll(key1,-2)\n",
    "        keyrot[i,:]=temp\n",
    "        key1=temp\n",
    "print(keyrot)"
   ]
  },
  {
   "cell_type": "code",
   "execution_count": 22,
   "metadata": {},
   "outputs": [],
   "source": [
    "#Initialize permutaion choice 1 matrix\n",
    "Perm2= [14,17,11,24,1,5,3,28,15,6,21,10,23,19,12,4,26,8,16,7, \n",
    "        27,20,13,2,41,52,31,37,47,55,30,40,51,45,33,48,44,49,39,56,34,53,46,42,50,36,29,32]"
   ]
  },
  {
   "cell_type": "code",
   "execution_count": 23,
   "metadata": {},
   "outputs": [
    {
     "name": "stdout",
     "output_type": "stream",
     "text": [
      "Key for round 0 =  [50 42 34 26 18 10  2 59 51 43 35 27 19 11  3 60 52 44 36 28 20 12  4 61\n",
      " 53 45 37 64 56 48 40 32 24 16  8 63 55 47 39 31 23 15  7 62 54 46 38 30\n",
      " 22 14 26 29 21 13  5 58]\n",
      "Key for round 1 =  [42 34 26 18 10  2 59 51 43 35 27 19 11  3 60 52 44 36 28 20 12  4 61 53\n",
      " 45 37 64 56 48 40 32 24 16  8 63 55 47 39 31 23 15  7 62 54 46 38 30 22\n",
      " 14 26 29 21 13  5 58 50]\n",
      "Key for round 2 =  [26 18 10  2 59 51 43 35 27 19 11  3 60 52 44 36 28 20 12  4 61 53 45 37\n",
      " 64 56 48 40 32 24 16  8 63 55 47 39 31 23 15  7 62 54 46 38 30 22 14 26\n",
      " 29 21 13  5 58 50 42 34]\n",
      "Key for round 3 =  [10  2 59 51 43 35 27 19 11  3 60 52 44 36 28 20 12  4 61 53 45 37 64 56\n",
      " 48 40 32 24 16  8 63 55 47 39 31 23 15  7 62 54 46 38 30 22 14 26 29 21\n",
      " 13  5 58 50 42 34 26 18]\n",
      "Key for round 4 =  [59 51 43 35 27 19 11  3 60 52 44 36 28 20 12  4 61 53 45 37 64 56 48 40\n",
      " 32 24 16  8 63 55 47 39 31 23 15  7 62 54 46 38 30 22 14 26 29 21 13  5\n",
      " 58 50 42 34 26 18 10  2]\n",
      "Key for round 5 =  [43 35 27 19 11  3 60 52 44 36 28 20 12  4 61 53 45 37 64 56 48 40 32 24\n",
      " 16  8 63 55 47 39 31 23 15  7 62 54 46 38 30 22 14 26 29 21 13  5 58 50\n",
      " 42 34 26 18 10  2 59 51]\n",
      "Key for round 6 =  [27 19 11  3 60 52 44 36 28 20 12  4 61 53 45 37 64 56 48 40 32 24 16  8\n",
      " 63 55 47 39 31 23 15  7 62 54 46 38 30 22 14 26 29 21 13  5 58 50 42 34\n",
      " 26 18 10  2 59 51 43 35]\n",
      "Key for round 7 =  [11  3 60 52 44 36 28 20 12  4 61 53 45 37 64 56 48 40 32 24 16  8 63 55\n",
      " 47 39 31 23 15  7 62 54 46 38 30 22 14 26 29 21 13  5 58 50 42 34 26 18\n",
      " 10  2 59 51 43 35 27 19]\n",
      "Key for round 8 =  [ 3 60 52 44 36 28 20 12  4 61 53 45 37 64 56 48 40 32 24 16  8 63 55 47\n",
      " 39 31 23 15  7 62 54 46 38 30 22 14 26 29 21 13  5 58 50 42 34 26 18 10\n",
      "  2 59 51 43 35 27 19 11]\n",
      "Key for round 9 =  [52 44 36 28 20 12  4 61 53 45 37 64 56 48 40 32 24 16  8 63 55 47 39 31\n",
      " 23 15  7 62 54 46 38 30 22 14 26 29 21 13  5 58 50 42 34 26 18 10  2 59\n",
      " 51 43 35 27 19 11  3 60]\n",
      "Key for round 10 =  [36 28 20 12  4 61 53 45 37 64 56 48 40 32 24 16  8 63 55 47 39 31 23 15\n",
      "  7 62 54 46 38 30 22 14 26 29 21 13  5 58 50 42 34 26 18 10  2 59 51 43\n",
      " 35 27 19 11  3 60 52 44]\n",
      "Key for round 11 =  [20 12  4 61 53 45 37 64 56 48 40 32 24 16  8 63 55 47 39 31 23 15  7 62\n",
      " 54 46 38 30 22 14 26 29 21 13  5 58 50 42 34 26 18 10  2 59 51 43 35 27\n",
      " 19 11  3 60 52 44 36 28]\n",
      "Key for round 12 =  [ 4 61 53 45 37 64 56 48 40 32 24 16  8 63 55 47 39 31 23 15  7 62 54 46\n",
      " 38 30 22 14 26 29 21 13  5 58 50 42 34 26 18 10  2 59 51 43 35 27 19 11\n",
      "  3 60 52 44 36 28 20 12]\n",
      "Key for round 13 =  [53 45 37 64 56 48 40 32 24 16  8 63 55 47 39 31 23 15  7 62 54 46 38 30\n",
      " 22 14 26 29 21 13  5 58 50 42 34 26 18 10  2 59 51 43 35 27 19 11  3 60\n",
      " 52 44 36 28 20 12  4 61]\n",
      "Key for round 14 =  [37 64 56 48 40 32 24 16  8 63 55 47 39 31 23 15  7 62 54 46 38 30 22 14\n",
      " 26 29 21 13  5 58 50 42 34 26 18 10  2 59 51 43 35 27 19 11  3 60 52 44\n",
      " 36 28 20 12  4 61 53 45]\n",
      "Key for round 15 =  [56 48 40 32 24 16  8 63 55 47 39 31 23 15  7 62 54 46 38 30 22 14 26 29\n",
      " 21 13  5 58 50 42 34 26 18 10  2 59 51 43 35 27 19 11  3 60 52 44 36 28\n",
      " 20 12  4 61 53 45 37 64]\n"
     ]
    }
   ],
   "source": [
    "#Performs permutation and compression\n",
    "keyround=np.zeros([16,48], dtype=int)\n",
    "for i in range(0,16):\n",
    "    tempkey= keyrot[i,:]\n",
    "    key2=[]\n",
    "    for k in range(0,48):\n",
    "        y=Perm2[k]\n",
    "        temp=tempkey[k]\n",
    "        key2.append(temp)\n",
    "    keyround[i,:]=key2\n",
    "    print(\"Key for round\",i,\"= \", tempkey)"
   ]
  },
  {
   "cell_type": "markdown",
   "metadata": {},
   "source": [
    "# Conclusion"
   ]
  },
  {
   "cell_type": "markdown",
   "metadata": {},
   "source": [
    "Here we learnt DES Key Generation for 16 rounds. After taking the inital key the position of the bits is changed according to permutation choice 1 table, converting the length of the key from 64 bits to 56 bits. On spliting the key into two halves rotation is performed for 16 rounds where in round 1,2,9,16 there is only 1 bit circular left shift is performed while for other round 2 bit cicular left shift is performed. Finally, before using the key for encryption we change the position of the bits according to the permutation table 2 making the length of the key from 56 bits to 48 bits. From this process it can be concluded that the key generation for DES is complicated making it difficult to be attacked and obtain the original plaintext."
   ]
  },
  {
   "cell_type": "code",
   "execution_count": null,
   "metadata": {},
   "outputs": [],
   "source": []
  }
 ],
 "metadata": {
  "kernelspec": {
   "display_name": "Python 3",
   "language": "python",
   "name": "python3"
  },
  "language_info": {
   "codemirror_mode": {
    "name": "ipython",
    "version": 3
   },
   "file_extension": ".py",
   "mimetype": "text/x-python",
   "name": "python",
   "nbconvert_exporter": "python",
   "pygments_lexer": "ipython3",
   "version": "3.7.4"
  }
 },
 "nbformat": 4,
 "nbformat_minor": 2
}
