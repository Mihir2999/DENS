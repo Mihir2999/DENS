{
 "cells": [
  {
   "cell_type": "markdown",
   "metadata": {},
   "source": [
    "# Experiment 8"
   ]
  },
  {
   "cell_type": "markdown",
   "metadata": {},
   "source": [
    "# Name: Mihir Momaya"
   ]
  },
  {
   "cell_type": "markdown",
   "metadata": {},
   "source": [
    "# Roll no.: C033"
   ]
  },
  {
   "cell_type": "code",
   "execution_count": 63,
   "metadata": {},
   "outputs": [
    {
     "name": "stdout",
     "output_type": "stream",
     "text": [
      "Enter the first prime number: 13\n",
      "Enter the second prime number: 23\n",
      "Enter the plain text number to be encrypted37\n",
      "299\n",
      "All possible values of encryption key are:  [5, 7, 13, 17, 19, 23, 25, 29, 31, 35, 37, 41, 43, 47, 49, 53, 59, 61, 65, 67, 71, 73, 79, 83, 85, 89, 91, 95, 97, 101, 103, 107, 109, 113, 115, 119, 125, 127, 131, 133, 137, 139, 145, 149, 151, 155, 157, 161, 163, 167, 169, 173, 175, 179, 181, 185, 191, 193, 197, 199, 203, 205, 211, 215, 217, 221, 223, 227, 229, 233, 235, 239, 241, 245, 247, 251, 257, 259, 263]\n",
      "decryption key is:  61\n",
      "For plain text =  37 , Cipher text =  11 Decrypted text =  37\n"
     ]
    }
   ],
   "source": [
    "# Program to find gcd of two numbers\n",
    "def euclid(m,n):\n",
    "  if n==0:\n",
    "    return m\n",
    "  else:\n",
    "    r= m%n\n",
    "    return euclid(n,r)\n",
    "\n",
    "#Program to find Multiplicative inverse\n",
    "def exteuclid(a,b):\n",
    "  r1=a\n",
    "  r2=b\n",
    "  s1= int(1)\n",
    "  s2= int(0)\n",
    "  t1= int(0)\n",
    "  t2= int(1)\n",
    "  while r2>0:\n",
    "    q= r1//r2\n",
    "    r= r1-q*r2\n",
    "    r1= r2\n",
    "    r2 = r\n",
    "    s= s1-q*s2\n",
    "    s1=s2\n",
    "    s2=s\n",
    "    t= t1-q*t2\n",
    "    t1=t2\n",
    "    t2=t\n",
    "  if t1<0:\n",
    "    t1= t1%a\n",
    "  return (r1,t1)\n",
    "  \n",
    "# Enter two large prime numbers\n",
    "p= int(input(\"Enter the first prime number: \"))\n",
    "q= int(input(\"Enter the second prime number: \"))\n",
    "PT= int(input(\"Enter the plain text number to be encrypted\"))\n",
    "n= p*q\n",
    "print(n)\n",
    "Pn= (p-1)*(q-1)\n",
    "# Generate encryption key in range 1<e<Pn\n",
    "key= []\n",
    "for i in range(2,Pn):\n",
    "  gcd= euclid(Pn,i)\n",
    "  if gcd==1:\n",
    "    key.append(i)\n",
    "print(\"All possible values of encryption key are: \", key)\n",
    "\n",
    "# Select an encryption key from the above list\n",
    "e= int(13)\n",
    "\n",
    "#Obtain inverse of encryption key in Z_Pn\n",
    "r, d= exteuclid(Pn,e)\n",
    "if r==1:\n",
    "  d=int(d)\n",
    "  print(\"decryption key is: \", d)\n",
    "else:\n",
    "  print(\"Multiplicative inverse for the given encryption key does not exist. Choose a different encrytion key \")\n",
    "\n",
    "\n",
    "ct= pow(PT,e)\n",
    "ct=ct%n\n",
    "\n",
    "\n",
    "dt= pow(ct,d)\n",
    "dt= dt%n\n",
    "\n",
    "print(\"For plain text = \", PT, \", Cipher text = \", ct, \"Decrypted text = \", dt)\n",
    " "
   ]
  },
  {
   "cell_type": "markdown",
   "metadata": {},
   "source": [
    "# Conclusion:"
   ]
  },
  {
   "cell_type": "markdown",
   "metadata": {},
   "source": [
    "In this experiment we have implemented the RSA encryption algorithm using the extended euclidean theorem. Using the program we will ask the user to enter any two prime numbers and find their products. We will then find all the prime numbers smaller than the product of the two entered prime numbers. Anyone of the prime numbers below the product can then be chosen as the decryption key used to decrypt the encrypted plain text or number in this case.   "
   ]
  },
  {
   "cell_type": "code",
   "execution_count": null,
   "metadata": {},
   "outputs": [],
   "source": []
  }
 ],
 "metadata": {
  "kernelspec": {
   "display_name": "Python 3",
   "language": "python",
   "name": "python3"
  },
  "language_info": {
   "codemirror_mode": {
    "name": "ipython",
    "version": 3
   },
   "file_extension": ".py",
   "mimetype": "text/x-python",
   "name": "python",
   "nbconvert_exporter": "python",
   "pygments_lexer": "ipython3",
   "version": "3.7.4"
  }
 },
 "nbformat": 4,
 "nbformat_minor": 2
}
