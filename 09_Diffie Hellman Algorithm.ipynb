{
 "cells": [
  {
   "cell_type": "markdown",
   "metadata": {},
   "source": [
    "# Experiment 9"
   ]
  },
  {
   "cell_type": "markdown",
   "metadata": {},
   "source": [
    "# Name: Mihir Momaya"
   ]
  },
  {
   "cell_type": "markdown",
   "metadata": {},
   "source": [
    "# Roll no.: C033"
   ]
  },
  {
   "cell_type": "markdown",
   "metadata": {},
   "source": [
    "## Diffie Hellman key Exchange Algorithm"
   ]
  },
  {
   "cell_type": "code",
   "execution_count": 31,
   "metadata": {},
   "outputs": [
    {
     "name": "stdout",
     "output_type": "stream",
     "text": [
      "Enter value of N which is prime : 23\n",
      "Enter value of G which is a primitive root of N: 9\n"
     ]
    }
   ],
   "source": [
    "N = int(input(\"Enter value of N which is prime : \"))\n",
    "G = int(input(\"Enter value of G which is a primitive root of N: \"))"
   ]
  },
  {
   "cell_type": "code",
   "execution_count": 32,
   "metadata": {},
   "outputs": [
    {
     "name": "stdout",
     "output_type": "stream",
     "text": [
      "Enter Alice's private key: 4\n",
      "Enter Bob's private key: 3\n"
     ]
    }
   ],
   "source": [
    "x = int(input(\"Enter Alice's private key: \"))\n",
    "y = int(input(\"Enter Bob's private key: \"))"
   ]
  },
  {
   "cell_type": "code",
   "execution_count": 33,
   "metadata": {},
   "outputs": [
    {
     "name": "stdout",
     "output_type": "stream",
     "text": [
      "6\n",
      "16\n"
     ]
    }
   ],
   "source": [
    "A = (G**x) % N\n",
    "B = (G**y) % N\n",
    "print(A)\n",
    "print(B)"
   ]
  },
  {
   "cell_type": "code",
   "execution_count": 48,
   "metadata": {},
   "outputs": [
    {
     "name": "stdout",
     "output_type": "stream",
     "text": [
      "9\n",
      "9\n"
     ]
    }
   ],
   "source": [
    "Ka = (B**x)%N\n",
    "Kb = (A**y)%N\n",
    "print(Ka)\n",
    "print(Kb)\n",
    "#the keys are matching"
   ]
  },
  {
   "cell_type": "markdown",
   "metadata": {},
   "source": [
    "## Man in the middle attack"
   ]
  },
  {
   "cell_type": "code",
   "execution_count": 36,
   "metadata": {},
   "outputs": [
    {
     "name": "stdout",
     "output_type": "stream",
     "text": [
      "Enter value of N which is prime : 23\n",
      "Enter value of G which is a primitive root of N: 9\n"
     ]
    }
   ],
   "source": [
    "N = int(input(\"Enter value of N which is prime : \"))\n",
    "G = int(input(\"Enter value of G which is a primitive root of N: \"))"
   ]
  },
  {
   "cell_type": "code",
   "execution_count": 37,
   "metadata": {},
   "outputs": [
    {
     "name": "stdout",
     "output_type": "stream",
     "text": [
      "Enter Alice's private key: 4\n",
      "Enter Bob's private key: 3\n"
     ]
    }
   ],
   "source": [
    "x = int(input(\"Enter Alice's private key: \"))\n",
    "y = int(input(\"Enter Bob's private key: \"))"
   ]
  },
  {
   "cell_type": "code",
   "execution_count": 38,
   "metadata": {},
   "outputs": [
    {
     "name": "stdout",
     "output_type": "stream",
     "text": [
      "Enter Tom's private key1: 5\n",
      "Enter Tom's private key2: 6\n"
     ]
    }
   ],
   "source": [
    "Tx = int(input(\"Enter Tom's private key1: \"))\n",
    "Ty = int(input(\"Enter Tom's private key2: \"))"
   ]
  },
  {
   "cell_type": "markdown",
   "metadata": {},
   "source": [
    "### Alice and Bob' A and B"
   ]
  },
  {
   "cell_type": "code",
   "execution_count": 39,
   "metadata": {},
   "outputs": [
    {
     "name": "stdout",
     "output_type": "stream",
     "text": [
      "6\n",
      "16\n"
     ]
    }
   ],
   "source": [
    "A = (G**x) % N\n",
    "B = (G**y) % N\n",
    "print(A)\n",
    "print(B)"
   ]
  },
  {
   "cell_type": "markdown",
   "metadata": {},
   "source": [
    "### Tom's A and B"
   ]
  },
  {
   "cell_type": "code",
   "execution_count": 45,
   "metadata": {},
   "outputs": [
    {
     "name": "stdout",
     "output_type": "stream",
     "text": [
      "8\n",
      "3\n"
     ]
    }
   ],
   "source": [
    "TA = (G**Tx)%N\n",
    "TB = (G**Ty)%N\n",
    "print(TA)\n",
    "print(TB)"
   ]
  },
  {
   "cell_type": "markdown",
   "metadata": {},
   "source": [
    "### Secret Keys for Alice and Bob"
   ]
  },
  {
   "cell_type": "code",
   "execution_count": 47,
   "metadata": {},
   "outputs": [
    {
     "name": "stdout",
     "output_type": "stream",
     "text": [
      "12\n",
      "6\n"
     ]
    }
   ],
   "source": [
    "NKa = (TB**x)%N\n",
    "NKb = (TA**y)%N\n",
    "print(NKa)\n",
    "print(NKb)\n",
    "#The keys are not matching"
   ]
  },
  {
   "cell_type": "markdown",
   "metadata": {},
   "source": [
    "### Secret Keys for Tom"
   ]
  },
  {
   "cell_type": "code",
   "execution_count": 50,
   "metadata": {},
   "outputs": [
    {
     "name": "stdout",
     "output_type": "stream",
     "text": [
      "6\n",
      "12\n"
     ]
    }
   ],
   "source": [
    "T1 = (B**Tx)%N\n",
    "T2 = (A**Ty)%N\n",
    "print(T1)\n",
    "print(T2)"
   ]
  },
  {
   "cell_type": "markdown",
   "metadata": {},
   "source": [
    "# Conclusion:"
   ]
  },
  {
   "cell_type": "markdown",
   "metadata": {},
   "source": [
    "Diffie Hellman Algorithm (DH) Diffie Hellman (DH) key exchange algorithm is a method for securely exchanging cryptographic keys over a public communications channel. Keys are not actually exchanged they are jointly derived hence they are not known on the public channel.Only the Large prime number and primitive root are publicly available. We see that both the users have the same secret key."
   ]
  },
  {
   "cell_type": "markdown",
   "metadata": {},
   "source": [
    "In the second case when a middle man tries to attack the keys he does so by using the Large prime number and primitive root.The attacker intercepts between the channel of the two users and exhanges his computed A with the first user's A and his B with the second user's B.Thus the secret key computed for the two users don't match that is first user's secret key matches with middle man's second secret key and second user's secret key matches withe the middle man's first key.\n",
    "Thus this algorithm can be used only for symmetric key exchange and as there is no authentication involved, it is vulnerable to man-in-the-middle attack. "
   ]
  },
  {
   "cell_type": "code",
   "execution_count": null,
   "metadata": {},
   "outputs": [],
   "source": []
  }
 ],
 "metadata": {
  "kernelspec": {
   "display_name": "Python 3",
   "language": "python",
   "name": "python3"
  },
  "language_info": {
   "codemirror_mode": {
    "name": "ipython",
    "version": 3
   },
   "file_extension": ".py",
   "mimetype": "text/x-python",
   "name": "python",
   "nbconvert_exporter": "python",
   "pygments_lexer": "ipython3",
   "version": "3.7.4"
  }
 },
 "nbformat": 4,
 "nbformat_minor": 2
}
