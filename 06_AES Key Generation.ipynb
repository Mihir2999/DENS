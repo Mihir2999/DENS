{
 "cells": [
  {
   "cell_type": "markdown",
   "metadata": {},
   "source": [
    "# Experiment 6"
   ]
  },
  {
   "cell_type": "markdown",
   "metadata": {},
   "source": [
    "# Name: Mihir Momaya"
   ]
  },
  {
   "cell_type": "markdown",
   "metadata": {},
   "source": [
    "# Roll no.: C033"
   ]
  },
  {
   "cell_type": "code",
   "execution_count": 249,
   "metadata": {},
   "outputs": [],
   "source": [
    "t= [0XAD20177D, 0X470678DB, 0X31da48d0, 0x47ab5b7d, 0x6c762d20, 0x52c4f80d, 0xe4133523, 0x8ce29268, 0x0a5e4f61, 0x3fc6cd99]\n",
    "#Initial 4 byte key given\n",
    "w1=[0x2475A2B3, 0x34755688, 0x31E21200, 0x13AA5487]"
   ]
  },
  {
   "cell_type": "code",
   "execution_count": 250,
   "metadata": {},
   "outputs": [
    {
     "name": "stdout",
     "output_type": "stream",
     "text": [
      "[611689139, 880105096, 836899328, 329929863, 2304095694, 3173049158, 2361585990, 2674435521, 3461598485, 1936928339, 4289847061, 1624865492, 4287202757, 2365238166, 1934324867, 328339031, 3089292984, 886601006, 1200816557, 1409355770, 3562337176, 3767305910, 2803861275, 4078864609, 2257587093, 1713147171, 3238201912, 840794841, 1652768438, 77575061, 3315382701, 4152441716, 3999378654, 3942522699, 794994406, 3638795666, 3829392319, 247594228, 564353554, 4181772160, 3690540582, 3577270994, 4103833792, 232476480]\n"
     ]
    }
   ],
   "source": [
    "j=0\n",
    "for i in range(4,44):\n",
    "    if i%4==0:\n",
    "        temp1= (t[j]^w1[i-4])\n",
    "        w1.append(temp1)\n",
    "        j=j+1\n",
    "    else:  \n",
    "        temp= (w1[i-1]^w1[i-4])\n",
    "        w1.append(temp)\n",
    "print(w1)"
   ]
  },
  {
   "cell_type": "code",
   "execution_count": 251,
   "metadata": {},
   "outputs": [
    {
     "name": "stdout",
     "output_type": "stream",
     "text": [
      "['0x2475a2b3', '0x34755688', '0x31e21200', '0x13aa5487', '0x8955b5ce', '0xbd20e346', '0x8cc2f146', '0x9f68a5c1', '0xce53cd15', '0x73732e53', '0xffb1df15', '0x60d97ad4', '0xff8985c5', '0x8cfaab96', '0x734b7483', '0x13920e57', '0xb822deb8', '0x34d8752e', '0x479301ad', '0x54010ffa', '0xd454f398', '0xe08c86b6', '0xa71f871b', '0xf31e88e1', '0x86900b95', '0x661c8d23', '0xc1030a38', '0x321d82d9', '0x62833eb6', '0x49fb395', '0xc59cb9ad', '0xf7813b74', '0xee61acde', '0xeafe1f4b', '0x2f62a6e6', '0xd8e39d92', '0xe43fe3bf', '0xec1fcf4', '0x21a35a12', '0xf940c780', '0xdbf92e26', '0xd538d2d2', '0xf49b88c0', '0xddb4f40']\n"
     ]
    }
   ],
   "source": [
    "#Converting the Key in Hex numbers\n",
    "word=[]\n",
    "for i in range(0,44):\n",
    "    temp= hex(w1[i])\n",
    "    word.append(temp)\n",
    "print(word)"
   ]
  },
  {
   "cell_type": "code",
   "execution_count": 252,
   "metadata": {},
   "outputs": [
    {
     "name": "stdout",
     "output_type": "stream",
     "text": [
      "0x13aa5487\n",
      "0x9f68a5c1\n",
      "0x60d97ad4\n",
      "0x13920e57\n",
      "0x54010ffa\n",
      "0xf31e88e1\n",
      "0x321d82d9\n",
      "0xf7813b74\n",
      "0xd8e39d92\n",
      "0xf940c780\n"
     ]
    }
   ],
   "source": [
    "rotword = []\n",
    "for i in range(1,44):\n",
    "    if i%4 == 0:\n",
    "        print(word[i-1])\n",
    "        rotword.append(word[i-1])"
   ]
  },
  {
   "cell_type": "code",
   "execution_count": 253,
   "metadata": {},
   "outputs": [],
   "source": [
    "import math"
   ]
  },
  {
   "cell_type": "code",
   "execution_count": 254,
   "metadata": {},
   "outputs": [],
   "source": [
    "left_shifted = []\n",
    "for i in range(0,len(rotword)):\n",
    "    new = \"{0:08b}\".format(int(rotword[i], 16))\n",
    "    if len(new)!=32:\n",
    "        z = 32 - len(new)\n",
    "        for i in range(0,z):\n",
    "            new = '0' + new\n",
    "    a = new[0:8]\n",
    "    b = new[8:]\n",
    "    new = b + a\n",
    "    decimal_representation = int(new, 2)\n",
    "    hexadecimal_string = hex(decimal_representation)\n",
    "    left_shifted.append(hexadecimal_string)"
   ]
  },
  {
   "cell_type": "code",
   "execution_count": 255,
   "metadata": {},
   "outputs": [
    {
     "data": {
      "text/plain": [
       "['0xaa548713',\n",
       " '0x68a5c19f',\n",
       " '0xd97ad460',\n",
       " '0x920e5713',\n",
       " '0x10ffa54',\n",
       " '0x1e88e1f3',\n",
       " '0x1d82d932',\n",
       " '0x813b74f7',\n",
       " '0xe39d92d8',\n",
       " '0x40c780f9']"
      ]
     },
     "execution_count": 255,
     "metadata": {},
     "output_type": "execute_result"
    }
   ],
   "source": [
    "left_shifted"
   ]
  },
  {
   "cell_type": "code",
   "execution_count": 256,
   "metadata": {},
   "outputs": [],
   "source": [
    "sbox = [[0x63, 0x7c, 0x77, 0x7b, 0xf2, 0x6b, 0x6f, 0xc5, 0x30, 0x01, 0x67, 0x2b, 0xfe, 0xd7, 0xab, 0x76],\n",
    "        [0xca, 0x82, 0xc9, 0x7d, 0xfa, 0x59, 0x47, 0xf0, 0xad, 0xd4, 0xa2, 0xaf, 0x9c, 0xa4, 0x72, 0xc0],\n",
    "        [0xb7, 0xfd, 0x93, 0x26, 0x36, 0x3f, 0xf7, 0xcc, 0x34, 0xa5, 0xe5, 0xf1, 0x71, 0xd8, 0x31, 0x15],\n",
    "        [0x04, 0xc7, 0x23, 0xc3, 0x18, 0x96, 0x05, 0x9a, 0x07, 0x12, 0x80, 0xe2, 0xeb, 0x27, 0xb2, 0x75],\n",
    "        [0x09, 0x83, 0x2c, 0x1a, 0x1b, 0x6e, 0x5a, 0xa0, 0x52, 0x3b, 0xd6, 0xb3, 0x29, 0xe3, 0x2f, 0x84],\n",
    "        [0x53, 0xd1, 0x00, 0xed, 0x20, 0xfc, 0xb1, 0x5b, 0x6a, 0xcb, 0xbe, 0x39, 0x4a, 0x4c, 0x58, 0xcf],\n",
    "        [0xd0, 0xef, 0xaa, 0xfb, 0x43, 0x4d, 0x33, 0x85, 0x45, 0xf9, 0x02, 0x7f, 0x50, 0x3c, 0x9f, 0xa8],\n",
    "        [0x51, 0xa3, 0x40, 0x8f, 0x92, 0x9d, 0x38, 0xf5, 0xbc, 0xb6, 0xda, 0x21, 0x10, 0xff, 0xf3, 0xd2],\n",
    "        [0xcd, 0x0c, 0x13, 0xec, 0x5f, 0x97, 0x44, 0x17, 0xc4, 0xa7, 0x7e, 0x3d, 0x64, 0x5d, 0x19, 0x73],\n",
    "        [0x60, 0x81, 0x4f, 0xdc, 0x22, 0x2a, 0x90, 0x88, 0x46, 0xee, 0xb8, 0x14, 0xde, 0x5e, 0x0b, 0xdb],\n",
    "        [0xe0, 0x32, 0x3a, 0x0a, 0x49, 0x06, 0x24, 0x5c, 0xc2, 0xd3, 0xac, 0x62, 0x91, 0x95, 0xe4, 0x79],\n",
    "        [0xe7, 0xc8, 0x37, 0x6d, 0x8d, 0xd5, 0x4e, 0xa9, 0x6c, 0x56, 0xf4, 0xea, 0x65, 0x7a, 0xae, 0x08],\n",
    "        [0xba, 0x78, 0x25, 0x2e, 0x1c, 0xa6, 0xb4, 0xc6, 0xe8, 0xdd, 0x74, 0x1f, 0x4b, 0xbd, 0x8b, 0x8a],\n",
    "        [0x70, 0x3e, 0xb5, 0x66, 0x48, 0x03, 0xf6, 0x0e, 0x61, 0x35, 0x57, 0xb9, 0x86, 0xc1, 0x1d, 0x9e],\n",
    "        [0xe1, 0xf8, 0x98, 0x11, 0x69, 0xd9, 0x8e, 0x94, 0x9b, 0x1e, 0x87, 0xe9, 0xce, 0x55, 0x28, 0xdf],\n",
    "        [0x8c, 0xa1, 0x89, 0x0d, 0xbf, 0xe6, 0x42, 0x68, 0x41, 0x99, 0x2d, 0x0f, 0xb0, 0x54, 0xbb, 0x16]]"
   ]
  },
  {
   "cell_type": "code",
   "execution_count": 257,
   "metadata": {},
   "outputs": [
    {
     "data": {
      "text/plain": [
       "'0x63'"
      ]
     },
     "execution_count": 257,
     "metadata": {},
     "output_type": "execute_result"
    }
   ],
   "source": [
    "hex(sbox[0][0])"
   ]
  },
  {
   "cell_type": "code",
   "execution_count": 258,
   "metadata": {},
   "outputs": [],
   "source": [
    "Rcon = ['0x01000000', '0x02000000','0x04000000', '0x08000000', \n",
    "        '0x10000000', '0x20000000', '0x40000000', '0x80000000', '0x1b000000', '0x36000000']"
   ]
  },
  {
   "cell_type": "code",
   "execution_count": 259,
   "metadata": {},
   "outputs": [
    {
     "name": "stdout",
     "output_type": "stream",
     "text": [
      "10\n",
      "10\n",
      "10\n",
      "10\n",
      "9\n",
      "10\n",
      "10\n",
      "10\n",
      "10\n",
      "10\n"
     ]
    }
   ],
   "source": [
    "for i in range(0,len(left_shifted)):\n",
    "    s = left_shifted[i]\n",
    "    print(len(s))"
   ]
  },
  {
   "cell_type": "code",
   "execution_count": 260,
   "metadata": {},
   "outputs": [],
   "source": [
    "def replace(f):\n",
    "    s_string = ''\n",
    "    f = f[2:]\n",
    "    if len(f) != 8:\n",
    "        f = '0' + f\n",
    "    #print(f)\n",
    "    for i in range(0,len(f),2):\n",
    "        if f[i].isdigit() == 1:\n",
    "            row = int(f[i])\n",
    "        else:\n",
    "            a =  int(str(f[i]), 16) \n",
    "            row = a\n",
    "            \n",
    "        \n",
    "        if f[i+1].isdigit() == 1:\n",
    "            col = int(f[i+1])\n",
    "        else:\n",
    "            b =  int(str(f[i+1]), 16) \n",
    "            col = b\n",
    "        \n",
    "        #print(row, col)\n",
    "        s_string = s_string + hex(sbox[row][col])\n",
    "        s_string = s_string.replace(\"0x\",\"\")\n",
    "    #print(s_string)\n",
    "    return s_string"
   ]
  },
  {
   "cell_type": "code",
   "execution_count": 261,
   "metadata": {},
   "outputs": [
    {
     "data": {
      "text/plain": [
       "'ac20177d'"
      ]
     },
     "execution_count": 261,
     "metadata": {},
     "output_type": "execute_result"
    }
   ],
   "source": [
    "replace(left_shifted[0])"
   ]
  },
  {
   "cell_type": "code",
   "execution_count": 262,
   "metadata": {},
   "outputs": [],
   "source": [
    "subs = []\n",
    "for k in range(0,len(left_shifted)):\n",
    "    a = replace(left_shifted[k])\n",
    "    if len(a) != 8:\n",
    "        a = '0'+ a\n",
    "    subs.append(a)"
   ]
  },
  {
   "cell_type": "code",
   "execution_count": 263,
   "metadata": {},
   "outputs": [
    {
     "data": {
      "text/plain": [
       "10"
      ]
     },
     "execution_count": 263,
     "metadata": {},
     "output_type": "execute_result"
    }
   ],
   "source": [
    "len(subs)"
   ]
  },
  {
   "cell_type": "code",
   "execution_count": 264,
   "metadata": {},
   "outputs": [
    {
     "data": {
      "text/plain": [
       "['ac20177d',\n",
       " '045678db',\n",
       " '35da48d0',\n",
       " '4fab5b7d',\n",
       " '7c762d20',\n",
       " '072c4f8d',\n",
       " 'a4133523',\n",
       " '0ce29268',\n",
       " '115e4f61',\n",
       " '09c6cd99']"
      ]
     },
     "execution_count": 264,
     "metadata": {},
     "output_type": "execute_result"
    }
   ],
   "source": [
    "subs"
   ]
  },
  {
   "cell_type": "code",
   "execution_count": 265,
   "metadata": {},
   "outputs": [],
   "source": [
    "def exor(a,b):\n",
    "    ans = ''\n",
    "    for i in range(0,len(a)):\n",
    "        if a[i] == b[i]:\n",
    "            ans = ans + '0'\n",
    "        else:\n",
    "            ans = ans + '1'\n",
    "    return ans"
   ]
  },
  {
   "cell_type": "code",
   "execution_count": 266,
   "metadata": {},
   "outputs": [
    {
     "data": {
      "text/plain": [
       "32"
      ]
     },
     "execution_count": 266,
     "metadata": {},
     "output_type": "execute_result"
    }
   ],
   "source": [
    "len(rc[1])"
   ]
  },
  {
   "cell_type": "code",
   "execution_count": 267,
   "metadata": {},
   "outputs": [],
   "source": [
    "def add_zeros(a):\n",
    "    z = 0\n",
    "    if len(a) != 32:\n",
    "        z = 32 - len(a)\n",
    "    for i in range(0,z):\n",
    "        a = '0' + a\n",
    "    return a"
   ]
  },
  {
   "cell_type": "code",
   "execution_count": 272,
   "metadata": {},
   "outputs": [
    {
     "name": "stdout",
     "output_type": "stream",
     "text": [
      "0xad20177d\n",
      "0x65678db\n",
      "0x31da48d0\n",
      "0x47ab5b7d\n",
      "0x6c762d20\n",
      "0x272c4f8d\n",
      "0xe4133523\n",
      "0x8ce29268\n",
      "0xa5e4f61\n",
      "0x3fc6cd99\n"
     ]
    }
   ],
   "source": [
    "sb = []\n",
    "rc = []\n",
    "for m in range(0,len(subs)):\n",
    "    subs_bin = \"{0:08b}\".format(int(subs[m], 16))\n",
    "    subs_bin = add_zeros(subs_bin)\n",
    "    sb.append(subs_bin)\n",
    "    rcon_bin = \"{0:08b}\".format(int(Rcon[m], 16))\n",
    "    rcon_bin = add_zeros(rcon_bin)\n",
    "    rc.append(rcon_bin)\n",
    "    ans = exor(subs_bin,rcon_bin)\n",
    "    #print(ans)\n",
    "    decimal_representation = int(ans, 2)\n",
    "    hexadecimal_string = hex(decimal_representation)\n",
    "    print(hexadecimal_string)"
   ]
  },
  {
   "cell_type": "markdown",
   "metadata": {},
   "source": [
    "# Conclusion"
   ]
  },
  {
   "cell_type": "markdown",
   "metadata": {},
   "source": [
    "In this experiment we have generated 44 rounds of keys required in AES. The first 4 keys are made from the cipher key and the first key of the next round is made by using the value of 'T'. Value of 'T' is made by using the key from the last round, first left rotated, then the words are substituted by using the S-box, and then X-ored with an element from the Rcon array which depends on the round number.  "
   ]
  },
  {
   "cell_type": "code",
   "execution_count": null,
   "metadata": {},
   "outputs": [],
   "source": []
  }
 ],
 "metadata": {
  "kernelspec": {
   "display_name": "Python 3",
   "language": "python",
   "name": "python3"
  },
  "language_info": {
   "codemirror_mode": {
    "name": "ipython",
    "version": 3
   },
   "file_extension": ".py",
   "mimetype": "text/x-python",
   "name": "python",
   "nbconvert_exporter": "python",
   "pygments_lexer": "ipython3",
   "version": "3.7.4"
  }
 },
 "nbformat": 4,
 "nbformat_minor": 2
}
